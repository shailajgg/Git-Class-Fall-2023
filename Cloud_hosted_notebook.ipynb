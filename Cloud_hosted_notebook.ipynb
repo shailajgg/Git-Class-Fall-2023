{
  "nbformat": 4,
  "nbformat_minor": 0,
  "metadata": {
    "colab": {
      "provenance": [],
      "authorship_tag": "ABX9TyNqP6MGoH4eriJRWPV25bBl",
      "include_colab_link": true
    },
    "kernelspec": {
      "name": "python3",
      "display_name": "Python 3"
    },
    "language_info": {
      "name": "python"
    }
  },
  "cells": [
    {
      "cell_type": "markdown",
      "metadata": {
        "id": "view-in-github",
        "colab_type": "text"
      },
      "source": [
        "<a href=\"https://colab.research.google.com/github/shailajgg/Git-Class-Fall-2023/blob/main/Cloud_hosted_notebook.ipynb\" target=\"_parent\"><img src=\"https://colab.research.google.com/assets/colab-badge.svg\" alt=\"Open In Colab\"/></a>"
      ]
    },
    {
      "cell_type": "markdown",
      "source": [
        "**INGEST**\n",
        "\n",
        "**Classification of Flower Species with the Iris Database**\n"
      ],
      "metadata": {
        "id": "thd6ETN1mPeZ"
      }
    },
    {
      "cell_type": "code",
      "source": [
        "from sklearn.datasets import load_iris\n",
        "iris = load_iris()\n"
      ],
      "metadata": {
        "id": "zWEKlo1qmUm7"
      },
      "execution_count": 1,
      "outputs": []
    }
  ]
}